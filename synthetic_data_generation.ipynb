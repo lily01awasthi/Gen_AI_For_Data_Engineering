# require modules 
# pip install scipy==1.7.3
# pip install ctgan
# pip install table-evaluator

import pandas as pd
from ctgan import CTGAN
from table_evaluator import TableEvaluator
file_url = 'https://drive.google.com/uc?export=download&id=1TtUQC2ayAV54NqFCxCYBuEtWwSbRRbF1'

# Load your dataset
df = pd.read_csv(file_url)

# Initialize the CTGAN model
model = CTGAN()

# Fit the model to the original data
model.fit(df)

# Generate synthetic data
synthetic_data = model.sample(len(df))

# Save the synthetic data

print(synthetic_data.head())

print(f"original data : {len(df)}")
print(f"genereated data : {len(synthetic_data)}")
