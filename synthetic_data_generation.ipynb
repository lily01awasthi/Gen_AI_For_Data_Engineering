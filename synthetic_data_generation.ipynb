{
  "nbformat": 4,
  "nbformat_minor": 0,
  "metadata": {
    "colab": {
      "provenance": [],
      "toc_visible": true,
      "authorship_tag": "ABX9TyO62Z/3UHoOsRAsuBYDRkN2",
      "include_colab_link": true
    },
    "kernelspec": {
      "name": "python3",
      "display_name": "Python 3"
    },
    "language_info": {
      "name": "python"
    }
  },
  "cells": [
    {
      "cell_type": "markdown",
      "metadata": {
        "id": "view-in-github",
        "colab_type": "text"
      },
      "source": [
        "<a href=\"https://colab.research.google.com/github/lily01awasthi/Gen_AI_For_Data_Engineering/blob/main/synthetic_data_generation.ipynb\" target=\"_parent\"><img src=\"https://colab.research.google.com/assets/colab-badge.svg\" alt=\"Open In Colab\"/></a>"
      ]
    },
    {
      "cell_type": "markdown",
      "source": [
        "# Synthetic Data Generation Using GenAI"
      ],
      "metadata": {
        "id": "cjN5Qm3jlKvx"
      }
    },
    {
      "cell_type": "code",
      "execution_count": null,
      "metadata": {
        "colab": {
          "base_uri": "https://localhost:8080/"
        },
        "id": "gNbRS0xJiYZ4",
        "outputId": "6dcc6ebf-bc3d-44fb-b2e1-7b99d2aa3f85"
      },
      "outputs": [
        {
          "output_type": "stream",
          "name": "stdout",
          "text": [
            "Requirement already satisfied: ctgan in /usr/local/lib/python3.10/dist-packages (0.10.1)\n",
            "Requirement already satisfied: tqdm<5,>=4.29 in /usr/local/lib/python3.10/dist-packages (from ctgan) (4.66.5)\n",
            "Requirement already satisfied: rdt>=1.11.0 in /usr/local/lib/python3.10/dist-packages (from ctgan) (1.12.2)\n",
            "Requirement already satisfied: pandas>=1.4.0 in /usr/local/lib/python3.10/dist-packages (from ctgan) (2.0.3)\n",
            "Requirement already satisfied: torch>=1.11.0 in /usr/local/lib/python3.10/dist-packages (from ctgan) (2.3.1+cu121)\n",
            "Requirement already satisfied: numpy<2,>=1.23.3 in /usr/local/lib/python3.10/dist-packages (from ctgan) (1.26.4)\n",
            "Requirement already satisfied: python-dateutil>=2.8.2 in /usr/local/lib/python3.10/dist-packages (from pandas>=1.4.0->ctgan) (2.8.2)\n",
            "Requirement already satisfied: pytz>=2020.1 in /usr/local/lib/python3.10/dist-packages (from pandas>=1.4.0->ctgan) (2024.1)\n",
            "Requirement already satisfied: tzdata>=2022.1 in /usr/local/lib/python3.10/dist-packages (from pandas>=1.4.0->ctgan) (2024.1)\n",
            "Requirement already satisfied: Faker>=17 in /usr/local/lib/python3.10/dist-packages (from rdt>=1.11.0->ctgan) (26.3.0)\n",
            "Requirement already satisfied: scikit-learn>=1.1.0 in /usr/local/lib/python3.10/dist-packages (from rdt>=1.11.0->ctgan) (1.3.2)\n",
            "Requirement already satisfied: scipy>=1.9.2 in /usr/local/lib/python3.10/dist-packages (from rdt>=1.11.0->ctgan) (1.13.1)\n",
            "Requirement already satisfied: filelock in /usr/local/lib/python3.10/dist-packages (from torch>=1.11.0->ctgan) (3.15.4)\n",
            "Requirement already satisfied: typing-extensions>=4.8.0 in /usr/local/lib/python3.10/dist-packages (from torch>=1.11.0->ctgan) (4.12.2)\n",
            "Requirement already satisfied: sympy in /usr/local/lib/python3.10/dist-packages (from torch>=1.11.0->ctgan) (1.13.1)\n",
            "Requirement already satisfied: networkx in /usr/local/lib/python3.10/dist-packages (from torch>=1.11.0->ctgan) (3.3)\n",
            "Requirement already satisfied: jinja2 in /usr/local/lib/python3.10/dist-packages (from torch>=1.11.0->ctgan) (3.1.4)\n",
            "Requirement already satisfied: fsspec in /usr/local/lib/python3.10/dist-packages (from torch>=1.11.0->ctgan) (2024.6.1)\n",
            "Requirement already satisfied: nvidia-cuda-nvrtc-cu12==12.1.105 in /usr/local/lib/python3.10/dist-packages (from torch>=1.11.0->ctgan) (12.1.105)\n",
            "Requirement already satisfied: nvidia-cuda-runtime-cu12==12.1.105 in /usr/local/lib/python3.10/dist-packages (from torch>=1.11.0->ctgan) (12.1.105)\n",
            "Requirement already satisfied: nvidia-cuda-cupti-cu12==12.1.105 in /usr/local/lib/python3.10/dist-packages (from torch>=1.11.0->ctgan) (12.1.105)\n",
            "Requirement already satisfied: nvidia-cudnn-cu12==8.9.2.26 in /usr/local/lib/python3.10/dist-packages (from torch>=1.11.0->ctgan) (8.9.2.26)\n",
            "Requirement already satisfied: nvidia-cublas-cu12==12.1.3.1 in /usr/local/lib/python3.10/dist-packages (from torch>=1.11.0->ctgan) (12.1.3.1)\n",
            "Requirement already satisfied: nvidia-cufft-cu12==11.0.2.54 in /usr/local/lib/python3.10/dist-packages (from torch>=1.11.0->ctgan) (11.0.2.54)\n",
            "Requirement already satisfied: nvidia-curand-cu12==10.3.2.106 in /usr/local/lib/python3.10/dist-packages (from torch>=1.11.0->ctgan) (10.3.2.106)\n",
            "Requirement already satisfied: nvidia-cusolver-cu12==11.4.5.107 in /usr/local/lib/python3.10/dist-packages (from torch>=1.11.0->ctgan) (11.4.5.107)\n",
            "Requirement already satisfied: nvidia-cusparse-cu12==12.1.0.106 in /usr/local/lib/python3.10/dist-packages (from torch>=1.11.0->ctgan) (12.1.0.106)\n",
            "Requirement already satisfied: nvidia-nccl-cu12==2.20.5 in /usr/local/lib/python3.10/dist-packages (from torch>=1.11.0->ctgan) (2.20.5)\n",
            "Requirement already satisfied: nvidia-nvtx-cu12==12.1.105 in /usr/local/lib/python3.10/dist-packages (from torch>=1.11.0->ctgan) (12.1.105)\n",
            "Requirement already satisfied: triton==2.3.1 in /usr/local/lib/python3.10/dist-packages (from torch>=1.11.0->ctgan) (2.3.1)\n",
            "Requirement already satisfied: nvidia-nvjitlink-cu12 in /usr/local/lib/python3.10/dist-packages (from nvidia-cusolver-cu12==11.4.5.107->torch>=1.11.0->ctgan) (12.6.20)\n",
            "Requirement already satisfied: six>=1.5 in /usr/local/lib/python3.10/dist-packages (from python-dateutil>=2.8.2->pandas>=1.4.0->ctgan) (1.16.0)\n",
            "Requirement already satisfied: joblib>=1.1.1 in /usr/local/lib/python3.10/dist-packages (from scikit-learn>=1.1.0->rdt>=1.11.0->ctgan) (1.4.2)\n",
            "Requirement already satisfied: threadpoolctl>=2.0.0 in /usr/local/lib/python3.10/dist-packages (from scikit-learn>=1.1.0->rdt>=1.11.0->ctgan) (3.5.0)\n",
            "Requirement already satisfied: MarkupSafe>=2.0 in /usr/local/lib/python3.10/dist-packages (from jinja2->torch>=1.11.0->ctgan) (2.1.5)\n",
            "Requirement already satisfied: mpmath<1.4,>=1.1.0 in /usr/local/lib/python3.10/dist-packages (from sympy->torch>=1.11.0->ctgan) (1.3.0)\n"
          ]
        }
      ],
      "source": [
        "pip install ctgan\n"
      ]
    },
    {
      "cell_type": "code",
      "source": [
        "pip install scipy==1.7.3\n",
        "pip install ctgan\n",
        "pip install table-evaluator"
      ],
      "metadata": {
        "colab": {
          "base_uri": "https://localhost:8080/",
          "height": 109
        },
        "id": "yRY9f94pipJM",
        "outputId": "6588ca01-5493-4a0a-b8d4-b31f0d5b2c4b"
      },
      "execution_count": null,
      "outputs": [
        {
          "output_type": "error",
          "ename": "SyntaxError",
          "evalue": "invalid syntax (<ipython-input-10-58d186650a09>, line 1)",
          "traceback": [
            "\u001b[0;36m  File \u001b[0;32m\"<ipython-input-10-58d186650a09>\"\u001b[0;36m, line \u001b[0;32m1\u001b[0m\n\u001b[0;31m    pip install scipy==1.7.3\u001b[0m\n\u001b[0m        ^\u001b[0m\n\u001b[0;31mSyntaxError\u001b[0m\u001b[0;31m:\u001b[0m invalid syntax\n"
          ]
        }
      ]
    },
    {
      "cell_type": "code",
      "source": [
        "import pandas as pd\n",
        "from ctgan import CTGAN\n",
        "from table_evaluator import TableEvaluator\n",
        "file_url = 'https://drive.google.com/uc?export=download&id=1TtUQC2ayAV54NqFCxCYBuEtWwSbRRbF1'\n",
        "\n",
        "# Load your dataset\n",
        "df = pd.read_csv(file_url)\n",
        "\n",
        "# Initialize the CTGAN model\n",
        "model = CTGAN()\n",
        "\n",
        "# Fit the model to the original data\n",
        "model.fit(df)\n",
        "\n",
        "# Generate synthetic data\n",
        "synthetic_data = model.sample(len(df))\n",
        "\n",
        "# Save the synthetic data\n",
        "\n",
        "print(synthetic_data.head())\n"
      ],
      "metadata": {
        "id": "R2bGrc4yjlT4",
        "colab": {
          "base_uri": "https://localhost:8080/"
        },
        "outputId": "7f62a09a-3c71-4fc5-c616-2bc18f568b9a"
      },
      "execution_count": null,
      "outputs": [
        {
          "output_type": "stream",
          "name": "stdout",
          "text": [
            "   schoolid  Z         Y  S3  C1  C2  C3  XC        X1        X2        X3  \\\n",
            "0        57  1 -0.523963   5   5   1   0   4 -1.128352 -0.241389 -0.023299   \n",
            "1        55  0  0.747048   5   4   2   0   2 -0.381441  1.173140 -1.139344   \n",
            "2         5  0 -1.004980   3   1   1   1   1  0.949454 -3.018995  2.102375   \n",
            "3         3  1 -0.020995   6   4   1   1   0 -2.573932  0.083275  1.991281   \n",
            "4        71  1  1.015736   5   4   1   1   3  0.069270  0.765185 -0.934292   \n",
            "\n",
            "         X4        X5  \n",
            "0  1.323276  0.985936  \n",
            "1 -1.176444  1.661995  \n",
            "2  2.376167 -1.148596  \n",
            "3 -1.687729  0.799989  \n",
            "4 -0.114902  0.150516  \n"
          ]
        }
      ]
    },
    {
      "cell_type": "code",
      "source": [
        "print(f\"original data : {len(df)}\")\n",
        "print(f\"genereated data : {len(synthetic_data)}\")"
      ],
      "metadata": {
        "colab": {
          "base_uri": "https://localhost:8080/"
        },
        "id": "bRyPgtxZixDl",
        "outputId": "de8e9fb1-caeb-4c2b-aacb-149106b68336"
      },
      "execution_count": null,
      "outputs": [
        {
          "output_type": "stream",
          "name": "stdout",
          "text": [
            "original data : 10391\n",
            "genereated data : 10391\n"
          ]
        }
      ]
    },
    {
      "cell_type": "code",
      "source": [],
      "metadata": {
        "id": "oLqIxYslqpq2"
      },
      "execution_count": null,
      "outputs": []
    }
  ]
}