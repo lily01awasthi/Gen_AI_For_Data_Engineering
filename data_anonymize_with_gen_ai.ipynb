{
  "nbformat": 4,
  "nbformat_minor": 0,
  "metadata": {
    "colab": {
      "provenance": [],
      "toc_visible": true,
      "authorship_tag": "ABX9TyNKrnjk8UKuy82h7besczx1",
      "include_colab_link": true
    },
    "kernelspec": {
      "name": "python3",
      "display_name": "Python 3"
    },
    "language_info": {
      "name": "python"
    }
  },
  "cells": [
    {
      "cell_type": "markdown",
      "metadata": {
        "id": "view-in-github",
        "colab_type": "text"
      },
      "source": [
        "<a href=\"https://colab.research.google.com/github/lily01awasthi/Gen_AI_For_Data_Engineering/blob/main/data_anonymize_with_gen_ai.ipynb\" target=\"_parent\"><img src=\"https://colab.research.google.com/assets/colab-badge.svg\" alt=\"Open In Colab\"/></a>"
      ]
    },
    {
      "cell_type": "markdown",
      "source": [
        "# Anonymoze Data using GenAI"
      ],
      "metadata": {
        "id": "ESUGiqh8qHNG"
      }
    },
    {
      "cell_type": "code",
      "execution_count": null,
      "metadata": {
        "colab": {
          "base_uri": "https://localhost:8080/"
        },
        "id": "S5cCkhsGmmyy",
        "outputId": "740ed621-48b5-45e3-c1e0-3f8031bdecba"
      },
      "outputs": [
        {
          "output_type": "stream",
          "name": "stdout",
          "text": [
            "Anonymized Entry: ('J*hn D**', '20s', 'WA')\n",
            "Anonymized Entry: ('*l*c* Sm*th', '30s', 'MA')\n",
            "Anonymized Entry: ('B*b J*hns*n', '40s', 'NY')\n"
          ]
        }
      ],
      "source": [
        "import re\n",
        "def anonymize_data(name, age, address):\n",
        "    # Task 1: Replace vowels in the name with '*'\n",
        "    anonymized_name = re.sub('[aeiouAEIOU]', '*', name)\n",
        "\n",
        "    # Task 2: Replace exact age with a range\n",
        "    age_range = str(age // 10) + '0s'\n",
        "\n",
        "    # Task 3: Replace address with last 2 characters (area code)\n",
        "    area_code = address[-2:]\n",
        "\n",
        "    return anonymized_name, age_range, area_code\n",
        "# Test the anonymization function\n",
        "entries = [\n",
        "    (\"John Doe\", 23, \"123 Main St, Seattle, WA\"),\n",
        "    (\"Alice Smith\", 35, \"456 Elm St, Boston, MA\"),\n",
        "    (\"Bob Johnson\", 41, \"789 Oak St, Manhatten, NY\")\n",
        "]\n",
        "for entry in entries:\n",
        "    anonymized_entry = anonymize_data(*entry)\n",
        "    print(\"Anonymized Entry:\", anonymized_entry)"
      ]
    },
    {
      "cell_type": "code",
      "source": [
        "pip install faker"
      ],
      "metadata": {
        "colab": {
          "base_uri": "https://localhost:8080/"
        },
        "id": "Dddxq6bGm671",
        "outputId": "4dc08dde-78ef-4448-a305-2022c4d69b32"
      },
      "execution_count": null,
      "outputs": [
        {
          "output_type": "stream",
          "name": "stdout",
          "text": [
            "Collecting faker\n",
            "  Downloading Faker-26.3.0-py3-none-any.whl.metadata (15 kB)\n",
            "Requirement already satisfied: python-dateutil>=2.4 in /usr/local/lib/python3.10/dist-packages (from faker) (2.8.2)\n",
            "Requirement already satisfied: six>=1.5 in /usr/local/lib/python3.10/dist-packages (from python-dateutil>=2.4->faker) (1.16.0)\n",
            "Downloading Faker-26.3.0-py3-none-any.whl (1.8 MB)\n",
            "\u001b[?25l   \u001b[90m━━━━━━━━━━━━━━━━━━━━━━━━━━━━━━━━━━━━━━━━\u001b[0m \u001b[32m0.0/1.8 MB\u001b[0m \u001b[31m?\u001b[0m eta \u001b[36m-:--:--\u001b[0m\r\u001b[2K   \u001b[91m━━━━━━━━━━━━━━━━━━━━━━━\u001b[0m\u001b[90m╺\u001b[0m\u001b[90m━━━━━━━━━━━━━━━━\u001b[0m \u001b[32m1.0/1.8 MB\u001b[0m \u001b[31m31.4 MB/s\u001b[0m eta \u001b[36m0:00:01\u001b[0m\r\u001b[2K   \u001b[90m━━━━━━━━━━━━━━━━━━━━━━━━━━━━━━━━━━━━━━━━\u001b[0m \u001b[32m1.8/1.8 MB\u001b[0m \u001b[31m28.2 MB/s\u001b[0m eta \u001b[36m0:00:00\u001b[0m\n",
            "\u001b[?25hInstalling collected packages: faker\n",
            "Successfully installed faker-26.3.0\n"
          ]
        }
      ]
    },
    {
      "cell_type": "code",
      "source": [
        "import pandas as pd\n",
        "\n",
        "# Creating a sample dataset\n",
        "data = {\n",
        "    'Name': ['John Doe', 'Jane Smith', 'Alice Johnson', 'Bob Lee'],\n",
        "    'Address': ['123 Main St', '456 Maple Ave', '789 Oak Dr', '101 Pine Ln'],\n",
        "    'SSN': ['123-45-6789', '987-65-4321', '135-79-2468', '864-20-7531'],\n",
        "    'Salary': [50000, 60000, 55000, 62000]\n",
        "}\n",
        "\n",
        "df = pd.DataFrame(data)\n",
        "\n",
        "# Display the original dataset\n",
        "print(\"Original Dataset:\")\n",
        "print(df)\n"
      ],
      "metadata": {
        "colab": {
          "base_uri": "https://localhost:8080/"
        },
        "id": "vjIcWEnnpY1R",
        "outputId": "c92c3386-2089-4741-aeb3-4c9488621a7a"
      },
      "execution_count": null,
      "outputs": [
        {
          "output_type": "stream",
          "name": "stdout",
          "text": [
            "Original Dataset:\n",
            "            Name        Address          SSN  Salary\n",
            "0       John Doe    123 Main St  123-45-6789   50000\n",
            "1     Jane Smith  456 Maple Ave  987-65-4321   60000\n",
            "2  Alice Johnson     789 Oak Dr  135-79-2468   55000\n",
            "3        Bob Lee    101 Pine Ln  864-20-7531   62000\n"
          ]
        }
      ]
    },
    {
      "cell_type": "code",
      "source": [
        "from faker import Faker\n",
        "\n",
        "# Initialize Faker\n",
        "fake = Faker()\n",
        "\n",
        "# Replace the 'Name' column with fake names\n",
        "df['Name'] = df['Name'].apply(lambda x: fake.name())\n",
        "\n",
        "# Replace the 'Address' column with fake addresses\n",
        "df['Address'] = df['Address'].apply(lambda x: fake.address().replace('\\n', ' '))\n",
        "\n",
        "# Replace the 'SSN' column with fake SSNs\n",
        "df['SSN'] = df['SSN'].apply(lambda x: fake.ssn())\n",
        "\n",
        "# Display the anonymized dataset\n",
        "print(\"\\nAnonymized Dataset with Faker:\")\n",
        "print(df)\n"
      ],
      "metadata": {
        "colab": {
          "base_uri": "https://localhost:8080/"
        },
        "id": "wLnN2lqnpelD",
        "outputId": "0bf8a982-b49b-4025-f02e-c8d90db5f550"
      },
      "execution_count": null,
      "outputs": [
        {
          "output_type": "stream",
          "name": "stdout",
          "text": [
            "\n",
            "Anonymized Dataset with Faker:\n",
            "                 Name                                           Address  \\\n",
            "0      Melinda Bishop  272 Strong Spring Apt. 634 Charlesfort, AL 36708   \n",
            "1        Brian Curtis             7961 Watts Pines Singhshire, TN 64972   \n",
            "2      Nicole Krueger   7532 Perry Falls Suite 730 East Emily, WA 96706   \n",
            "3  Michael Potter DVM        955 April Pines North Jameshaven, MH 68491   \n",
            "\n",
            "           SSN  Salary  \n",
            "0  830-63-1743   50000  \n",
            "1  343-39-2406   60000  \n",
            "2  116-11-0280   55000  \n",
            "3  244-51-8165   62000  \n"
          ]
        }
      ]
    },
    {
      "cell_type": "code",
      "source": [],
      "metadata": {
        "id": "kai3dR9Yp1ty"
      },
      "execution_count": null,
      "outputs": []
    }
  ]
}