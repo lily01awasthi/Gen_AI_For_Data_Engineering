{
  "nbformat": 4,
  "nbformat_minor": 0,
  "metadata": {
    "colab": {
      "provenance": [],
      "toc_visible": true,
      "authorship_tag": "ABX9TyNvNeFC4CzyVVeEpZtZ2OnA",
      "include_colab_link": true
    },
    "kernelspec": {
      "name": "python3",
      "display_name": "Python 3"
    },
    "language_info": {
      "name": "python"
    }
  },
  "cells": [
    {
      "cell_type": "markdown",
      "metadata": {
        "id": "view-in-github",
        "colab_type": "text"
      },
      "source": [
        "<a href=\"https://colab.research.google.com/github/lily01awasthi/Gen_AI_For_Data_Engineering/blob/main/Final_Project.ipynb\" target=\"_parent\"><img src=\"https://colab.research.google.com/assets/colab-badge.svg\" alt=\"Open In Colab\"/></a>"
      ]
    },
    {
      "cell_type": "markdown",
      "source": [
        "# Load the Dataset"
      ],
      "metadata": {
        "id": "3XxHUPRTDxvk"
      }
    },
    {
      "cell_type": "code",
      "source": [
        "import pandas as pd\n",
        "\n",
        "recorded_data_url =\"https://cf-courses-data.s3.us.cloud-object-storage.appdomain.cloud/IBMSkillsNetwork-AI0273EN-SkillsNetwork/labs/v1/m3/data/Project_data.csv\"\n",
        "data = pd.read_csv(recorded_data_url)\n",
        "data.head()\n",
        "print(\"Original dataset length:\", len(df))\n",
        "import sqlite3\n",
        "# 2. Remove entries where:\n",
        "#    a. InvoiceNo starts with the character 'C'\n",
        "df = df[~df['InvoiceNo'].astype(str).str.startswith('C')]\n",
        "#    b. StockCode is either 'M', 'D', 'C2' or 'POST'\n",
        "df = df[~df['StockCode'].isin(['M', 'D', 'C2', 'POST'])]\n",
        "#    c. CustomerID is missing.\n",
        "df = df.dropna(subset=['CustomerID'])\n",
        "print(\"Dataset length after removal:\", len(df))\n",
        "\n",
        "# 3. Load the final data to an SQLite3 database\n",
        "# Create a connection object using the connect function\n",
        "conn = sqlite3.connect('Invoice_Records.db')\n",
        "# Load the data into a table named 'Purchase_transactions'\n",
        "df.to_sql('Purchase_transactions', conn, if_exists='replace', index=False)\n",
        "\n",
        "# 4. Run a sample query to display the first 5 rows of the table\n",
        "query_result = pd.read_sql_query('SELECT * FROM Purchase_transactions LIMIT 5', conn)\n",
        "print(query_result)\n",
        "\n",
        "# Close the database connection\n",
        "conn.close()"
      ],
      "metadata": {
        "colab": {
          "base_uri": "https://localhost:8080/"
        },
        "id": "bD89JBynFs9H",
        "outputId": "811fcfa6-82f7-49e7-c25e-4628f2d5c877"
      },
      "execution_count": 14,
      "outputs": [
        {
          "output_type": "stream",
          "name": "stdout",
          "text": [
            "Original dataset length: 396402\n",
            "Dataset length after removal: 396402\n",
            "   InvoiceNo StockCode                          Description  Quantity  \\\n",
            "0     536365    85123A   WHITE HANGING HEART T-LIGHT HOLDER         6   \n",
            "1     536365     71053                  WHITE METAL LANTERN         6   \n",
            "2     536365    84406B       CREAM CUPID HEARTS COAT HANGER         8   \n",
            "3     536365    84029G  KNITTED UNION FLAG HOT WATER BOTTLE         6   \n",
            "4     536365    84029E       RED WOOLLY HOTTIE WHITE HEART.         6   \n",
            "\n",
            "           InvoiceDate  UnitPrice  CustomerID         Country  \n",
            "0  2010-12-01 08:26:00       2.55     17850.0  United Kingdom  \n",
            "1  2010-12-01 08:26:00       3.39     17850.0  United Kingdom  \n",
            "2  2010-12-01 08:26:00       2.75     17850.0  United Kingdom  \n",
            "3  2010-12-01 08:26:00       3.39     17850.0  United Kingdom  \n",
            "4  2010-12-01 08:26:00       3.39     17850.0  United Kingdom  \n"
          ]
        }
      ]
    },
    {
      "cell_type": "code",
      "source": [],
      "metadata": {
        "id": "whY6nbIWGeLg"
      },
      "execution_count": null,
      "outputs": []
    }
  ]
}